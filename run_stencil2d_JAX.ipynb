{
 "cells": [
  {
   "cell_type": "code",
   "execution_count": 4,
   "id": "ef6fce7e-f170-4b56-8c1b-a52d01799a2a",
   "metadata": {},
   "outputs": [
    {
     "name": "stdout",
     "output_type": "stream",
     "text": [
      "Elapsed time for work = 0.08297920227050781 s\n"
     ]
    }
   ],
   "source": [
    "\n",
    "\n",
    "%run ./stencil2d_jax.py --nx 128 --ny 128 --nz 64 --num_iter 1024\n",
    "\n"
   ]
  },
  {
   "cell_type": "code",
   "execution_count": null,
   "id": "91578d37-01b9-4f2c-8216-6ae086c14ed9",
   "metadata": {},
   "outputs": [],
   "source": []
  },
  {
   "cell_type": "code",
   "execution_count": null,
   "id": "e8d98ced-001f-4081-b2f6-f67c05a63591",
   "metadata": {},
   "outputs": [],
   "source": []
  }
 ],
 "metadata": {
  "kernelspec": {
   "display_name": "Python (jax_env)",
   "language": "python",
   "name": "jax_env"
  },
  "language_info": {
   "codemirror_mode": {
    "name": "ipython",
    "version": 3
   },
   "file_extension": ".py",
   "mimetype": "text/x-python",
   "name": "python",
   "nbconvert_exporter": "python",
   "pygments_lexer": "ipython3",
   "version": "3.12.5"
  }
 },
 "nbformat": 4,
 "nbformat_minor": 5
}
